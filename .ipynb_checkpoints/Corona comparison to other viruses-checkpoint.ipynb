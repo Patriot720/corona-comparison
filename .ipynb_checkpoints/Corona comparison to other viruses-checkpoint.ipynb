{
 "cells": [
  {
   "cell_type": "code",
   "execution_count": null,
   "metadata": {},
   "outputs": [],
   "source": [
    "#import virus strings from viruses.py \n",
    "import viruses"
   ]
  },
  {
   "cell_type": "markdown",
   "metadata": {},
   "source": [
    "# Turn Virus strings into one single sequence"
   ]
  },
  {
   "cell_type": "code",
   "execution_count": 22,
   "metadata": {},
   "outputs": [],
   "source": [
    "def remove_digits_and_spaces(string):\n",
    "    result = ''.join([i for i in string if not i.isdigit()])\n",
    "    return result.replace(\" \",\"\").replace(\"\\n\",\"\")\n",
    "\n",
    "# COVID to sequence\n",
    "covid_sequence = remove_digits_and_spaces(corona_rna)\n",
    "# HIV to sequence\n",
    "hiv_sequence = remove_digits_and_spaces(hiv_virus)\n",
    "# SARS to sequence\n",
    "sars_sequence = remove_digits_and_spaces(sars_virus)\n",
    "# african swine fever to sequence\n",
    "african_swine_virus_sequence = remove_digits_and_spaces(african_swine_virus_genome)\n",
    "# h1n1 swine flu\n",
    "h1n1_sequence = remove_digits_and_spaces(h1n1_virus)"
   ]
  },
  {
   "cell_type": "markdown",
   "metadata": {},
   "source": [
    "# Comparing sequence strings"
   ]
  },
  {
   "cell_type": "code",
   "execution_count": 12,
   "metadata": {},
   "outputs": [],
   "source": [
    "from difflib import SequenceMatcher\n",
    "\n",
    "def similar(a, b):\n",
    "    return SequenceMatcher(None, a, b,autojunk=False).ratio()"
   ]
  },
  {
   "cell_type": "code",
   "execution_count": 85,
   "metadata": {},
   "outputs": [
    {
     "name": "stdout",
     "output_type": "stream",
     "text": [
      "Corona is about 5.547026916385222 % similar to HIV\n"
     ]
    }
   ],
   "source": [
    "print(\"Corona is about \" + str(similar(hiv_sequence,covid_sequence)*100) + \" % similar to HIV\")"
   ]
  },
  {
   "cell_type": "code",
   "execution_count": 83,
   "metadata": {},
   "outputs": [
    {
     "name": "stdout",
     "output_type": "stream",
     "text": [
      "SARS is about 75.74010125054481 % similar to COVID-19\n"
     ]
    }
   ],
   "source": [
    "print(\"SARS is about \" + str(similar(sars_sequence,covid_sequence)*100) + \" % similar to COVID-19\")"
   ]
  },
  {
   "cell_type": "code",
   "execution_count": 84,
   "metadata": {},
   "outputs": [
    {
     "name": "stdout",
     "output_type": "stream",
     "text": [
      "African swine fewer virus is about 6.339873202535949 % similar to COVID-19\n"
     ]
    }
   ],
   "source": [
    "print(\"African swine fewer virus is about \" + str(similar(african_swine_virus_sequence,covid_sequence)*100) + \" % similar to COVID-19\")"
   ]
  },
  {
   "cell_type": "code",
   "execution_count": 13,
   "metadata": {},
   "outputs": [
    {
     "name": "stdout",
     "output_type": "stream",
     "text": [
      "H1N1 virus is about 6.674109911921598 % similar to COVID-19\n"
     ]
    }
   ],
   "source": [
    "print(\"H1N1 virus is about \" + str(similar(h1n1_sequence,covid_sequence)*100) + \" % similar to COVID-19\")"
   ]
  },
  {
   "cell_type": "markdown",
   "metadata": {},
   "source": [
    "# Are matches in hiv - covid 19 present in other viruses"
   ]
  },
  {
   "cell_type": "code",
   "execution_count": 31,
   "metadata": {
    "scrolled": true
   },
   "outputs": [
    {
     "name": "stdout",
     "output_type": "stream",
     "text": [
      "tctct present in both covid and hiv is not in h1n1 seq\n",
      "agatctg present in both covid and hiv is not in h1n1 seq\n",
      "gcctgg present in both covid and hiv is not in h1n1 seq\n",
      "tggctaacta present in both covid and hiv is not in h1n1 seq\n",
      "ccactgc present in both covid and hiv is not in h1n1 seq\n",
      "taagcct present in both covid and hiv is not in h1n1 seq\n",
      "aaagcttgcc present in both covid and hiv is not in h1n1 seq\n",
      "gtgcttca present in both covid and hiv is not in h1n1 seq\n",
      "tgttgt present in both covid and hiv is not in h1n1 seq\n",
      "aattttgact present in both covid and hiv is not in h1n1 seq\n",
      "tatta present in both covid and hiv is not in h1n1 seq\n",
      "ttagatc present in both covid and hiv is not in h1n1 seq\n",
      "gaaaaaat present in both covid and hiv is not in h1n1 seq\n",
      "gcaggg present in both covid and hiv is not in h1n1 seq\n",
      "gctgtagaca present in both covid and hiv is not in h1n1 seq\n",
      "gaagctt present in both covid and hiv is not in h1n1 seq\n",
      "aaaagt present in both covid and hiv is not in h1n1 seq\n",
      "gcagccatgcaa present in both covid and hiv is not in h1n1 seq\n",
      "atgttaaaa present in both covid and hiv is not in h1n1 seq\n",
      "agaccat present in both covid and hiv is not in h1n1 seq\n",
      "aagctgca present in both covid and hiv is not in h1n1 seq\n",
      "tagagtgc present in both covid and hiv is not in h1n1 seq\n",
      "ttgcaccagg present in both covid and hiv is not in h1n1 seq\n",
      "caggaacaaata present in both covid and hiv is not in h1n1 seq\n",
      "taatcca present in both covid and hiv is not in h1n1 seq\n",
      "ccagtag present in both covid and hiv is not in h1n1 seq\n",
      "aaatttat present in both covid and hiv is not in h1n1 seq\n",
      "gattaaa present in both covid and hiv is not in h1n1 seq\n",
      "aagaatgta present in both covid and hiv is not in h1n1 seq\n",
      "ctaccag present in both covid and hiv is not in h1n1 seq\n",
      "ctggac present in both covid and hiv is not in h1n1 seq\n",
      "agacaagga present in both covid and hiv is not in h1n1 seq\n",
      "gcttca present in both covid and hiv is not in h1n1 seq\n",
      "aaattggatgaca present in both covid and hiv is not in h1n1 seq\n",
      "gacagaagaaa present in both covid and hiv is not in h1n1 seq\n",
      "tggatgattt present in both covid and hiv is not in h1n1 seq\n",
      "aaacaatt present in both covid and hiv is not in h1n1 seq\n",
      "gcagtgc present in both covid and hiv is not in h1n1 seq\n",
      "accaca present in both covid and hiv is not in h1n1 seq\n",
      "agatggg present in both covid and hiv is not in h1n1 seq\n",
      "acaagtagat present in both covid and hiv is not in h1n1 seq\n",
      "atagcaa present in both covid and hiv is not in h1n1 seq\n",
      "cattaggga present in both covid and hiv is not in h1n1 seq\n",
      "ggagagc present in both covid and hiv is not in h1n1 seq\n",
      "agagccct present in both covid and hiv is not in h1n1 seq\n",
      "atgtgtaaaattaa present in both covid and hiv is not in h1n1 seq\n",
      "tagtagt present in both covid and hiv is not in h1n1 seq\n",
      "ggagaatga present in both covid and hiv is not in h1n1 seq\n",
      "aaaaaa present in both covid and hiv is not in h1n1 seq\n",
      "aaaaaa present in both covid and hiv is not in h1n1 seq\n"
     ]
    }
   ],
   "source": [
    "from difflib import SequenceMatcher\n",
    "import viruses\n",
    "matches = SequenceMatcher(None,hiv_sequence,covid_sequence,autojunk=False).get_matching_blocks()\n",
    "for match in matches:\n",
    "    match_str = covid_sequence[match.b:match.b + match.size]\n",
    "    if(not match_str in h1n1_sequence):\n",
    "        print(match_str + \" present in both covid and hiv is not in h1n1 seq\")"
   ]
  },
  {
   "cell_type": "markdown",
   "metadata": {},
   "source": [
    "# Compare translated sequences"
   ]
  },
  {
   "cell_type": "code",
   "execution_count": 38,
   "metadata": {},
   "outputs": [],
   "source": [
    "from geohot.lib import translate\n",
    "translated_covid = translate(covid_sequence)\n",
    "translated_h1n1 = translate(h1n1_sequence)\n",
    "translated_hiv = translate(hiv_sequence)\n",
    "translated_sars = translate(sars_sequence)"
   ]
  },
  {
   "cell_type": "code",
   "execution_count": 37,
   "metadata": {},
   "outputs": [],
   "source": [
    "def comparator(a,b,c,msg):\n",
    "    matches = SequenceMatcher(None,a,b,autojunk=False).get_matching_blocks()\n",
    "    for match in matches:\n",
    "        match_str = b[match.b:match.b + match.size]\n",
    "        if(not match_str in c):\n",
    "            print(match_str + msg)"
   ]
  },
  {
   "cell_type": "code",
   "execution_count": 34,
   "metadata": {
    "scrolled": true
   },
   "outputs": [
    {
     "name": "stdout",
     "output_type": "stream",
     "text": [
      "CLS present in both covid and hiv is not in h1n1 seq\n",
      "CVT present in both covid and hiv is not in h1n1 seq\n",
      "C*S present in both covid and hiv is not in h1n1 seq\n",
      "FD*RR present in both covid and hiv is not in h1n1 seq\n",
      "RW present in both covid and hiv is not in h1n1 seq\n",
      "ERQ present in both covid and hiv is not in h1n1 seq\n",
      "Y* present in both covid and hiv is not in h1n1 seq\n",
      "*I present in both covid and hiv is not in h1n1 seq\n",
      "LAC* present in both covid and hiv is not in h1n1 seq\n",
      "DKY present in both covid and hiv is not in h1n1 seq\n",
      "TL*C present in both covid and hiv is not in h1n1 seq\n",
      "KWY present in both covid and hiv is not in h1n1 seq\n",
      "C*T present in both covid and hiv is not in h1n1 seq\n",
      "KC present in both covid and hiv is not in h1n1 seq\n",
      "NQG present in both covid and hiv is not in h1n1 seq\n",
      "T* present in both covid and hiv is not in h1n1 seq\n",
      "KDG*S present in both covid and hiv is not in h1n1 seq\n",
      "WD present in both covid and hiv is not in h1n1 seq\n",
      "EC present in both covid and hiv is not in h1n1 seq\n",
      "ALP present in both covid and hiv is not in h1n1 seq\n",
      "RNP present in both covid and hiv is not in h1n1 seq\n",
      "GLPT present in both covid and hiv is not in h1n1 seq\n",
      "QLP present in both covid and hiv is not in h1n1 seq\n",
      "NLW present in both covid and hiv is not in h1n1 seq\n",
      "RLQ present in both covid and hiv is not in h1n1 seq\n",
      "AF present in both covid and hiv is not in h1n1 seq\n",
      "DG present in both covid and hiv is not in h1n1 seq\n",
      "VPV present in both covid and hiv is not in h1n1 seq\n",
      "KRN present in both covid and hiv is not in h1n1 seq\n",
      "NN present in both covid and hiv is not in h1n1 seq\n",
      "LGVDIA present in both covid and hiv is not in h1n1 seq\n",
      "E* present in both covid and hiv is not in h1n1 seq\n",
      "ALL present in both covid and hiv is not in h1n1 seq\n",
      "WK present in both covid and hiv is not in h1n1 seq\n",
      "TNCY present in both covid and hiv is not in h1n1 seq\n",
      "SIVI present in both covid and hiv is not in h1n1 seq\n",
      "L*C present in both covid and hiv is not in h1n1 seq\n",
      "*SI present in both covid and hiv is not in h1n1 seq\n",
      "*Y present in both covid and hiv is not in h1n1 seq\n",
      "TRS present in both covid and hiv is not in h1n1 seq\n",
      "MCKIN present in both covid and hiv is not in h1n1 seq\n",
      "*F present in both covid and hiv is not in h1n1 seq\n",
      "** present in both covid and hiv is not in h1n1 seq\n",
      "KKK present in both covid and hiv is not in h1n1 seq\n"
     ]
    }
   ],
   "source": [
    "matches = SequenceMatcher(None,translated_hiv,translated_covid,autojunk=False).get_matching_blocks()\n",
    "for match in matches:\n",
    "    match_str = translated_covid[match.b:match.b + match.size]\n",
    "    if(not match_str in translated_h1n1):\n",
    "        print(match_str + \" present in both covid and hiv is not in h1n1 seq\")"
   ]
  },
  {
   "cell_type": "code",
   "execution_count": 39,
   "metadata": {},
   "outputs": [
    {
     "name": "stdout",
     "output_type": "stream",
     "text": [
      "YLPR in sars and covid but not in h1n1\n",
      "SISCRSVL*TNFKICVAV in sars and covid but not in h1n1\n",
      "RLHA*CT in sars and covid but not in h1n1\n",
      "AV* in sars and covid but not in h1n1\n",
      "NFTV in sars and covid but not in h1n1\n",
      "TRP in sars and covid but not in h1n1\n",
      "CL in sars and covid but not in h1n1\n",
      "CCSR in sars and covid but not in h1n1\n",
      "SSA in sars and covid but not in h1n1\n",
      "YL in sars and covid but not in h1n1\n",
      "RV* in sars and covid but not in h1n1\n",
      "SLVL in sars and covid but not in h1n1\n",
      "VNE in sars and covid but not in h1n1\n",
      "VLQ in sars and covid but not in h1n1\n",
      "PYV in sars and covid but not in h1n1\n",
      "SYGI in sars and covid but not in h1n1\n",
      "YDL in sars and covid but not in h1n1\n",
      "GDEL in sars and covid but not in h1n1\n",
      "VVK in sars and covid but not in h1n1\n",
      "DIG in sars and covid but not in h1n1\n",
      "AIKCV in sars and covid but not in h1n1\n",
      "AAN in sars and covid but not in h1n1\n",
      "PLTV in sars and covid but not in h1n1\n",
      "SCLL in sars and covid but not in h1n1\n",
      "HN in sars and covid but not in h1n1\n",
      "ILL in sars and covid but not in h1n1\n",
      "VC in sars and covid but not in h1n1\n",
      "LLLF in sars and covid but not in h1n1\n",
      "PY in sars and covid but not in h1n1\n",
      "VITSGD in sars and covid but not in h1n1\n",
      "CVV in sars and covid but not in h1n1\n",
      "EET in sars and covid but not in h1n1\n",
      "SVLL in sars and covid but not in h1n1\n",
      "LCA in sars and covid but not in h1n1\n",
      "VKP in sars and covid but not in h1n1\n",
      "SFYVY in sars and covid but not in h1n1\n",
      "GFC in sars and covid but not in h1n1\n",
      "VAV in sars and covid but not in h1n1\n",
      "NLD in sars and covid but not in h1n1\n",
      "SKS in sars and covid but not in h1n1\n",
      "YSQL in sars and covid but not in h1n1\n",
      "PME in sars and covid but not in h1n1\n",
      "DGV in sars and covid but not in h1n1\n",
      "QLR in sars and covid but not in h1n1\n",
      "VAAI in sars and covid but not in h1n1\n",
      "LHF in sars and covid but not in h1n1\n",
      "SIS in sars and covid but not in h1n1\n",
      "IIQFP in sars and covid but not in h1n1\n",
      "YL in sars and covid but not in h1n1\n",
      "YC in sars and covid but not in h1n1\n",
      "ERS in sars and covid but not in h1n1\n",
      "QSK in sars and covid but not in h1n1\n",
      "MVFLL in sars and covid but not in h1n1\n",
      "SRN in sars and covid but not in h1n1\n",
      "F* in sars and covid but not in h1n1\n",
      "NTS in sars and covid but not in h1n1\n",
      "SLT in sars and covid but not in h1n1\n",
      "G* in sars and covid but not in h1n1\n",
      "QC*LN in sars and covid but not in h1n1\n",
      "SCR in sars and covid but not in h1n1\n",
      "I* in sars and covid but not in h1n1\n",
      "TLV in sars and covid but not in h1n1\n",
      "*L in sars and covid but not in h1n1\n",
      "HSTS in sars and covid but not in h1n1\n",
      "ALM in sars and covid but not in h1n1\n",
      "F** in sars and covid but not in h1n1\n",
      "LLRR in sars and covid but not in h1n1\n",
      "KKKKKKKK in sars and covid but not in h1n1\n"
     ]
    }
   ],
   "source": [
    "comparator(translated_sars,translated_covid,translated_h1n1,\" in sars and covid but not in h1n1\")"
   ]
  },
  {
   "cell_type": "code",
   "execution_count": null,
   "metadata": {},
   "outputs": [],
   "source": []
  }
 ],
 "metadata": {
  "celltoolbar": "Hide code",
  "kernelspec": {
   "display_name": "Python 3",
   "language": "python",
   "name": "python3"
  },
  "language_info": {
   "codemirror_mode": {
    "name": "ipython",
    "version": 3
   },
   "file_extension": ".py",
   "mimetype": "text/x-python",
   "name": "python",
   "nbconvert_exporter": "python",
   "pygments_lexer": "ipython3",
   "version": "3.8.1"
  }
 },
 "nbformat": 4,
 "nbformat_minor": 4
}
